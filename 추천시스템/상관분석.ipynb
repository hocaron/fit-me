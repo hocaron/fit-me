{
 "cells": [
  {
   "cell_type": "code",
   "execution_count": 1,
   "metadata": {},
   "outputs": [
    {
     "ename": "TypeError",
     "evalue": "read_excel() got an unexpected keyword argument 'encoding'",
     "output_type": "error",
     "traceback": [
      "\u001b[1;31m---------------------------------------------------------------------------\u001b[0m",
      "\u001b[1;31mTypeError\u001b[0m                                 Traceback (most recent call last)",
      "\u001b[1;32m<ipython-input-1-772b3bdbffb8>\u001b[0m in \u001b[0;36m<module>\u001b[1;34m\u001b[0m\n\u001b[0;32m      4\u001b[0m \u001b[1;32mfrom\u001b[0m \u001b[0mscipy\u001b[0m \u001b[1;32mimport\u001b[0m \u001b[0mstats\u001b[0m\u001b[1;33m\u001b[0m\u001b[1;33m\u001b[0m\u001b[0m\n\u001b[0;32m      5\u001b[0m \u001b[1;33m\u001b[0m\u001b[0m\n\u001b[1;32m----> 6\u001b[1;33m \u001b[0mdata\u001b[0m \u001b[1;33m=\u001b[0m \u001b[0mpd\u001b[0m\u001b[1;33m.\u001b[0m\u001b[0mread_excel\u001b[0m\u001b[1;33m(\u001b[0m\u001b[1;34m'클러스터링.xlsx'\u001b[0m\u001b[1;33m,\u001b[0m\u001b[0mencoding\u001b[0m\u001b[1;33m=\u001b[0m\u001b[1;34m'cp949'\u001b[0m\u001b[1;33m)\u001b[0m\u001b[1;33m.\u001b[0m\u001b[0mreset_index\u001b[0m\u001b[1;33m(\u001b[0m\u001b[0mdrop\u001b[0m\u001b[1;33m=\u001b[0m\u001b[1;32mTrue\u001b[0m\u001b[1;33m)\u001b[0m\u001b[1;33m\u001b[0m\u001b[1;33m\u001b[0m\u001b[0m\n\u001b[0m\u001b[0;32m      7\u001b[0m \u001b[0mdata\u001b[0m\u001b[1;33m.\u001b[0m\u001b[0mhead\u001b[0m\u001b[1;33m(\u001b[0m\u001b[1;33m)\u001b[0m\u001b[1;33m\u001b[0m\u001b[1;33m\u001b[0m\u001b[0m\n\u001b[0;32m      8\u001b[0m \u001b[0mdata\u001b[0m\u001b[1;33m=\u001b[0m\u001b[0mpd\u001b[0m\u001b[1;33m.\u001b[0m\u001b[0mconcat\u001b[0m\u001b[1;33m(\u001b[0m\u001b[1;33m[\u001b[0m\u001b[0mdata\u001b[0m\u001b[1;33m.\u001b[0m\u001b[0mapply\u001b[0m\u001b[1;33m(\u001b[0m\u001b[0mpd\u001b[0m\u001b[1;33m.\u001b[0m\u001b[0mto_numeric\u001b[0m\u001b[1;33m)\u001b[0m\u001b[1;33m]\u001b[0m\u001b[1;33m,\u001b[0m \u001b[0maxis\u001b[0m\u001b[1;33m=\u001b[0m\u001b[1;36m1\u001b[0m\u001b[1;33m)\u001b[0m\u001b[1;33m\u001b[0m\u001b[1;33m\u001b[0m\u001b[0m\n",
      "\u001b[1;32m~\\anaconda3\\lib\\site-packages\\pandas\\util\\_decorators.py\u001b[0m in \u001b[0;36mwrapper\u001b[1;34m(*args, **kwargs)\u001b[0m\n\u001b[0;32m    294\u001b[0m                 )\n\u001b[0;32m    295\u001b[0m                 \u001b[0mwarnings\u001b[0m\u001b[1;33m.\u001b[0m\u001b[0mwarn\u001b[0m\u001b[1;33m(\u001b[0m\u001b[0mmsg\u001b[0m\u001b[1;33m,\u001b[0m \u001b[0mFutureWarning\u001b[0m\u001b[1;33m,\u001b[0m \u001b[0mstacklevel\u001b[0m\u001b[1;33m=\u001b[0m\u001b[0mstacklevel\u001b[0m\u001b[1;33m)\u001b[0m\u001b[1;33m\u001b[0m\u001b[1;33m\u001b[0m\u001b[0m\n\u001b[1;32m--> 296\u001b[1;33m             \u001b[1;32mreturn\u001b[0m \u001b[0mfunc\u001b[0m\u001b[1;33m(\u001b[0m\u001b[1;33m*\u001b[0m\u001b[0margs\u001b[0m\u001b[1;33m,\u001b[0m \u001b[1;33m**\u001b[0m\u001b[0mkwargs\u001b[0m\u001b[1;33m)\u001b[0m\u001b[1;33m\u001b[0m\u001b[1;33m\u001b[0m\u001b[0m\n\u001b[0m\u001b[0;32m    297\u001b[0m \u001b[1;33m\u001b[0m\u001b[0m\n\u001b[0;32m    298\u001b[0m         \u001b[1;32mreturn\u001b[0m \u001b[0mwrapper\u001b[0m\u001b[1;33m\u001b[0m\u001b[1;33m\u001b[0m\u001b[0m\n",
      "\u001b[1;31mTypeError\u001b[0m: read_excel() got an unexpected keyword argument 'encoding'"
     ]
    }
   ],
   "source": [
    "import pandas as pd\n",
    "import numpy as np\n",
    "import matplotlib.pyplot as plt\n",
    "from scipy import stats\n",
    "\n",
    "data = pd.read_excel('클러스터링.xlsx',encoding='cp949').reset_index(drop=True)\n",
    "data.head()\n",
    "data=pd.concat([data.apply(pd.to_numeric)], axis=1)\n",
    "#X=data.set_index('userid')\n",
    "C=data[['Extro','Neuro','Consc','Strength','cardio','flex','pred']]\n",
    "C.head()"
   ]
  },
  {
   "cell_type": "code",
   "execution_count": 85,
   "metadata": {},
   "outputs": [
    {
     "data": {
      "text/html": [
       "<div>\n",
       "<style scoped>\n",
       "    .dataframe tbody tr th:only-of-type {\n",
       "        vertical-align: middle;\n",
       "    }\n",
       "\n",
       "    .dataframe tbody tr th {\n",
       "        vertical-align: top;\n",
       "    }\n",
       "\n",
       "    .dataframe thead th {\n",
       "        text-align: right;\n",
       "    }\n",
       "</style>\n",
       "<table border=\"1\" class=\"dataframe\">\n",
       "  <thead>\n",
       "    <tr style=\"text-align: right;\">\n",
       "      <th></th>\n",
       "      <th>Extro</th>\n",
       "      <th>Neuro</th>\n",
       "      <th>Consc</th>\n",
       "      <th>Strength</th>\n",
       "      <th>cardio</th>\n",
       "      <th>flex</th>\n",
       "    </tr>\n",
       "  </thead>\n",
       "  <tbody>\n",
       "    <tr>\n",
       "      <th>3</th>\n",
       "      <td>-1.024237</td>\n",
       "      <td>-0.755253</td>\n",
       "      <td>0.087117</td>\n",
       "      <td>0.689295</td>\n",
       "      <td>0.358333</td>\n",
       "      <td>-0.701520</td>\n",
       "    </tr>\n",
       "    <tr>\n",
       "      <th>4</th>\n",
       "      <td>0.547253</td>\n",
       "      <td>-0.755253</td>\n",
       "      <td>1.617895</td>\n",
       "      <td>0.689295</td>\n",
       "      <td>1.182163</td>\n",
       "      <td>0.048801</td>\n",
       "    </tr>\n",
       "    <tr>\n",
       "      <th>5</th>\n",
       "      <td>0.547253</td>\n",
       "      <td>-0.755253</td>\n",
       "      <td>1.617895</td>\n",
       "      <td>0.689295</td>\n",
       "      <td>1.182163</td>\n",
       "      <td>0.048801</td>\n",
       "    </tr>\n",
       "    <tr>\n",
       "      <th>7</th>\n",
       "      <td>1.071083</td>\n",
       "      <td>0.262787</td>\n",
       "      <td>1.617895</td>\n",
       "      <td>1.453108</td>\n",
       "      <td>-1.289328</td>\n",
       "      <td>0.048801</td>\n",
       "    </tr>\n",
       "    <tr>\n",
       "      <th>9</th>\n",
       "      <td>-0.500407</td>\n",
       "      <td>0.771807</td>\n",
       "      <td>1.617895</td>\n",
       "      <td>0.689295</td>\n",
       "      <td>-1.289328</td>\n",
       "      <td>1.549443</td>\n",
       "    </tr>\n",
       "  </tbody>\n",
       "</table>\n",
       "</div>"
      ],
      "text/plain": [
       "      Extro     Neuro     Consc  Strength    cardio      flex\n",
       "3 -1.024237 -0.755253  0.087117  0.689295  0.358333 -0.701520\n",
       "4  0.547253 -0.755253  1.617895  0.689295  1.182163  0.048801\n",
       "5  0.547253 -0.755253  1.617895  0.689295  1.182163  0.048801\n",
       "7  1.071083  0.262787  1.617895  1.453108 -1.289328  0.048801\n",
       "9 -0.500407  0.771807  1.617895  0.689295 -1.289328  1.549443"
      ]
     },
     "execution_count": 85,
     "metadata": {},
     "output_type": "execute_result"
    }
   ],
   "source": [
    "C_0=C[C['pred']==0]\n",
    "C_0=C_0[['Extro','Neuro','Consc','Strength','cardio','flex']]\n",
    "C_0.head(5)"
   ]
  },
  {
   "cell_type": "code",
   "execution_count": 86,
   "metadata": {},
   "outputs": [
    {
     "data": {
      "text/html": [
       "<div>\n",
       "<style scoped>\n",
       "    .dataframe tbody tr th:only-of-type {\n",
       "        vertical-align: middle;\n",
       "    }\n",
       "\n",
       "    .dataframe tbody tr th {\n",
       "        vertical-align: top;\n",
       "    }\n",
       "\n",
       "    .dataframe thead th {\n",
       "        text-align: right;\n",
       "    }\n",
       "</style>\n",
       "<table border=\"1\" class=\"dataframe\">\n",
       "  <thead>\n",
       "    <tr style=\"text-align: right;\">\n",
       "      <th></th>\n",
       "      <th>Extro</th>\n",
       "      <th>Neuro</th>\n",
       "      <th>Consc</th>\n",
       "      <th>Strength</th>\n",
       "      <th>cardio</th>\n",
       "      <th>flex</th>\n",
       "    </tr>\n",
       "  </thead>\n",
       "  <tbody>\n",
       "    <tr>\n",
       "      <th>0</th>\n",
       "      <td>-0.500407</td>\n",
       "      <td>1.280827</td>\n",
       "      <td>-0.933401</td>\n",
       "      <td>0.689295</td>\n",
       "      <td>-2.113159</td>\n",
       "      <td>-1.451840</td>\n",
       "    </tr>\n",
       "    <tr>\n",
       "      <th>1</th>\n",
       "      <td>-1.548067</td>\n",
       "      <td>0.771807</td>\n",
       "      <td>-1.443660</td>\n",
       "      <td>-0.838331</td>\n",
       "      <td>0.358333</td>\n",
       "      <td>-1.451840</td>\n",
       "    </tr>\n",
       "    <tr>\n",
       "      <th>8</th>\n",
       "      <td>-0.500407</td>\n",
       "      <td>0.771807</td>\n",
       "      <td>-1.443660</td>\n",
       "      <td>-0.838331</td>\n",
       "      <td>0.358333</td>\n",
       "      <td>0.799122</td>\n",
       "    </tr>\n",
       "    <tr>\n",
       "      <th>14</th>\n",
       "      <td>-0.500407</td>\n",
       "      <td>1.280827</td>\n",
       "      <td>-1.953920</td>\n",
       "      <td>0.689295</td>\n",
       "      <td>1.182163</td>\n",
       "      <td>0.048801</td>\n",
       "    </tr>\n",
       "    <tr>\n",
       "      <th>20</th>\n",
       "      <td>-0.500407</td>\n",
       "      <td>1.280827</td>\n",
       "      <td>-1.953920</td>\n",
       "      <td>0.689295</td>\n",
       "      <td>1.182163</td>\n",
       "      <td>0.048801</td>\n",
       "    </tr>\n",
       "  </tbody>\n",
       "</table>\n",
       "</div>"
      ],
      "text/plain": [
       "       Extro     Neuro     Consc  Strength    cardio      flex\n",
       "0  -0.500407  1.280827 -0.933401  0.689295 -2.113159 -1.451840\n",
       "1  -1.548067  0.771807 -1.443660 -0.838331  0.358333 -1.451840\n",
       "8  -0.500407  0.771807 -1.443660 -0.838331  0.358333  0.799122\n",
       "14 -0.500407  1.280827 -1.953920  0.689295  1.182163  0.048801\n",
       "20 -0.500407  1.280827 -1.953920  0.689295  1.182163  0.048801"
      ]
     },
     "execution_count": 86,
     "metadata": {},
     "output_type": "execute_result"
    }
   ],
   "source": [
    "C_1=C[C['pred']==1]\n",
    "C_1=C_1[['Extro','Neuro','Consc','Strength','cardio','flex']]\n",
    "C_1.head(5)"
   ]
  },
  {
   "cell_type": "code",
   "execution_count": 87,
   "metadata": {},
   "outputs": [
    {
     "data": {
      "text/html": [
       "<div>\n",
       "<style scoped>\n",
       "    .dataframe tbody tr th:only-of-type {\n",
       "        vertical-align: middle;\n",
       "    }\n",
       "\n",
       "    .dataframe tbody tr th {\n",
       "        vertical-align: top;\n",
       "    }\n",
       "\n",
       "    .dataframe thead th {\n",
       "        text-align: right;\n",
       "    }\n",
       "</style>\n",
       "<table border=\"1\" class=\"dataframe\">\n",
       "  <thead>\n",
       "    <tr style=\"text-align: right;\">\n",
       "      <th></th>\n",
       "      <th>Extro</th>\n",
       "      <th>Neuro</th>\n",
       "      <th>Consc</th>\n",
       "      <th>Strength</th>\n",
       "      <th>cardio</th>\n",
       "      <th>flex</th>\n",
       "    </tr>\n",
       "  </thead>\n",
       "  <tbody>\n",
       "    <tr>\n",
       "      <th>2</th>\n",
       "      <td>1.594914</td>\n",
       "      <td>-2.282314</td>\n",
       "      <td>-0.933401</td>\n",
       "      <td>1.453108</td>\n",
       "      <td>1.182163</td>\n",
       "      <td>-1.451840</td>\n",
       "    </tr>\n",
       "    <tr>\n",
       "      <th>6</th>\n",
       "      <td>2.118744</td>\n",
       "      <td>-1.264274</td>\n",
       "      <td>0.597377</td>\n",
       "      <td>1.453108</td>\n",
       "      <td>0.358333</td>\n",
       "      <td>-1.451840</td>\n",
       "    </tr>\n",
       "    <tr>\n",
       "      <th>10</th>\n",
       "      <td>0.023423</td>\n",
       "      <td>0.262787</td>\n",
       "      <td>-0.423142</td>\n",
       "      <td>1.453108</td>\n",
       "      <td>-0.465498</td>\n",
       "      <td>-1.451840</td>\n",
       "    </tr>\n",
       "    <tr>\n",
       "      <th>12</th>\n",
       "      <td>1.071083</td>\n",
       "      <td>-0.755253</td>\n",
       "      <td>0.597377</td>\n",
       "      <td>-0.838331</td>\n",
       "      <td>1.182163</td>\n",
       "      <td>0.799122</td>\n",
       "    </tr>\n",
       "    <tr>\n",
       "      <th>16</th>\n",
       "      <td>0.547253</td>\n",
       "      <td>-1.264274</td>\n",
       "      <td>0.087117</td>\n",
       "      <td>-0.838331</td>\n",
       "      <td>0.358333</td>\n",
       "      <td>0.799122</td>\n",
       "    </tr>\n",
       "  </tbody>\n",
       "</table>\n",
       "</div>"
      ],
      "text/plain": [
       "       Extro     Neuro     Consc  Strength    cardio      flex\n",
       "2   1.594914 -2.282314 -0.933401  1.453108  1.182163 -1.451840\n",
       "6   2.118744 -1.264274  0.597377  1.453108  0.358333 -1.451840\n",
       "10  0.023423  0.262787 -0.423142  1.453108 -0.465498 -1.451840\n",
       "12  1.071083 -0.755253  0.597377 -0.838331  1.182163  0.799122\n",
       "16  0.547253 -1.264274  0.087117 -0.838331  0.358333  0.799122"
      ]
     },
     "execution_count": 87,
     "metadata": {},
     "output_type": "execute_result"
    }
   ],
   "source": [
    "C_2=C[C['pred']==2]\n",
    "C_2=C_2[['Extro','Neuro','Consc','Strength','cardio','flex']]\n",
    "C_2.head(5)"
   ]
  },
  {
   "cell_type": "code",
   "execution_count": 88,
   "metadata": {},
   "outputs": [
    {
     "data": {
      "text/html": [
       "<div>\n",
       "<style scoped>\n",
       "    .dataframe tbody tr th:only-of-type {\n",
       "        vertical-align: middle;\n",
       "    }\n",
       "\n",
       "    .dataframe tbody tr th {\n",
       "        vertical-align: top;\n",
       "    }\n",
       "\n",
       "    .dataframe thead th {\n",
       "        text-align: right;\n",
       "    }\n",
       "</style>\n",
       "<table border=\"1\" class=\"dataframe\">\n",
       "  <thead>\n",
       "    <tr style=\"text-align: right;\">\n",
       "      <th></th>\n",
       "      <th>Extro</th>\n",
       "      <th>Neuro</th>\n",
       "      <th>Consc</th>\n",
       "      <th>Strength</th>\n",
       "      <th>cardio</th>\n",
       "      <th>flex</th>\n",
       "    </tr>\n",
       "  </thead>\n",
       "  <tbody>\n",
       "    <tr>\n",
       "      <th>Extro</th>\n",
       "      <td>1.000000</td>\n",
       "      <td>0.191479</td>\n",
       "      <td>0.095345</td>\n",
       "      <td>0.022563</td>\n",
       "      <td>0.008761</td>\n",
       "      <td>0.023529</td>\n",
       "    </tr>\n",
       "    <tr>\n",
       "      <th>Neuro</th>\n",
       "      <td>0.191479</td>\n",
       "      <td>1.000000</td>\n",
       "      <td>-0.232622</td>\n",
       "      <td>-0.200774</td>\n",
       "      <td>0.088483</td>\n",
       "      <td>0.307549</td>\n",
       "    </tr>\n",
       "    <tr>\n",
       "      <th>Consc</th>\n",
       "      <td>0.095345</td>\n",
       "      <td>-0.232622</td>\n",
       "      <td>1.000000</td>\n",
       "      <td>0.147403</td>\n",
       "      <td>0.139703</td>\n",
       "      <td>-0.110261</td>\n",
       "    </tr>\n",
       "    <tr>\n",
       "      <th>Strength</th>\n",
       "      <td>0.022563</td>\n",
       "      <td>-0.200774</td>\n",
       "      <td>0.147403</td>\n",
       "      <td>1.000000</td>\n",
       "      <td>0.213356</td>\n",
       "      <td>-0.173241</td>\n",
       "    </tr>\n",
       "    <tr>\n",
       "      <th>cardio</th>\n",
       "      <td>0.008761</td>\n",
       "      <td>0.088483</td>\n",
       "      <td>0.139703</td>\n",
       "      <td>0.213356</td>\n",
       "      <td>1.000000</td>\n",
       "      <td>-0.059901</td>\n",
       "    </tr>\n",
       "    <tr>\n",
       "      <th>flex</th>\n",
       "      <td>0.023529</td>\n",
       "      <td>0.307549</td>\n",
       "      <td>-0.110261</td>\n",
       "      <td>-0.173241</td>\n",
       "      <td>-0.059901</td>\n",
       "      <td>1.000000</td>\n",
       "    </tr>\n",
       "  </tbody>\n",
       "</table>\n",
       "</div>"
      ],
      "text/plain": [
       "             Extro     Neuro     Consc  Strength    cardio      flex\n",
       "Extro     1.000000  0.191479  0.095345  0.022563  0.008761  0.023529\n",
       "Neuro     0.191479  1.000000 -0.232622 -0.200774  0.088483  0.307549\n",
       "Consc     0.095345 -0.232622  1.000000  0.147403  0.139703 -0.110261\n",
       "Strength  0.022563 -0.200774  0.147403  1.000000  0.213356 -0.173241\n",
       "cardio    0.008761  0.088483  0.139703  0.213356  1.000000 -0.059901\n",
       "flex      0.023529  0.307549 -0.110261 -0.173241 -0.059901  1.000000"
      ]
     },
     "execution_count": 88,
     "metadata": {},
     "output_type": "execute_result"
    }
   ],
   "source": [
    "C_0.corr(method='pearson')"
   ]
  },
  {
   "cell_type": "code",
   "execution_count": 89,
   "metadata": {},
   "outputs": [
    {
     "data": {
      "text/html": [
       "<div>\n",
       "<style scoped>\n",
       "    .dataframe tbody tr th:only-of-type {\n",
       "        vertical-align: middle;\n",
       "    }\n",
       "\n",
       "    .dataframe tbody tr th {\n",
       "        vertical-align: top;\n",
       "    }\n",
       "\n",
       "    .dataframe thead th {\n",
       "        text-align: right;\n",
       "    }\n",
       "</style>\n",
       "<table border=\"1\" class=\"dataframe\">\n",
       "  <thead>\n",
       "    <tr style=\"text-align: right;\">\n",
       "      <th></th>\n",
       "      <th>Extro</th>\n",
       "      <th>Neuro</th>\n",
       "      <th>Consc</th>\n",
       "      <th>Strength</th>\n",
       "      <th>cardio</th>\n",
       "      <th>flex</th>\n",
       "    </tr>\n",
       "  </thead>\n",
       "  <tbody>\n",
       "    <tr>\n",
       "      <th>Extro</th>\n",
       "      <td>1.000000</td>\n",
       "      <td>0.200127</td>\n",
       "      <td>0.243075</td>\n",
       "      <td>-0.102475</td>\n",
       "      <td>-0.140824</td>\n",
       "      <td>-0.176386</td>\n",
       "    </tr>\n",
       "    <tr>\n",
       "      <th>Neuro</th>\n",
       "      <td>0.200127</td>\n",
       "      <td>1.000000</td>\n",
       "      <td>-0.044130</td>\n",
       "      <td>0.079429</td>\n",
       "      <td>0.068326</td>\n",
       "      <td>0.278564</td>\n",
       "    </tr>\n",
       "    <tr>\n",
       "      <th>Consc</th>\n",
       "      <td>0.243075</td>\n",
       "      <td>-0.044130</td>\n",
       "      <td>1.000000</td>\n",
       "      <td>-0.346106</td>\n",
       "      <td>-0.242729</td>\n",
       "      <td>-0.489036</td>\n",
       "    </tr>\n",
       "    <tr>\n",
       "      <th>Strength</th>\n",
       "      <td>-0.102475</td>\n",
       "      <td>0.079429</td>\n",
       "      <td>-0.346106</td>\n",
       "      <td>1.000000</td>\n",
       "      <td>0.322057</td>\n",
       "      <td>0.250519</td>\n",
       "    </tr>\n",
       "    <tr>\n",
       "      <th>cardio</th>\n",
       "      <td>-0.140824</td>\n",
       "      <td>0.068326</td>\n",
       "      <td>-0.242729</td>\n",
       "      <td>0.322057</td>\n",
       "      <td>1.000000</td>\n",
       "      <td>0.121561</td>\n",
       "    </tr>\n",
       "    <tr>\n",
       "      <th>flex</th>\n",
       "      <td>-0.176386</td>\n",
       "      <td>0.278564</td>\n",
       "      <td>-0.489036</td>\n",
       "      <td>0.250519</td>\n",
       "      <td>0.121561</td>\n",
       "      <td>1.000000</td>\n",
       "    </tr>\n",
       "  </tbody>\n",
       "</table>\n",
       "</div>"
      ],
      "text/plain": [
       "             Extro     Neuro     Consc  Strength    cardio      flex\n",
       "Extro     1.000000  0.200127  0.243075 -0.102475 -0.140824 -0.176386\n",
       "Neuro     0.200127  1.000000 -0.044130  0.079429  0.068326  0.278564\n",
       "Consc     0.243075 -0.044130  1.000000 -0.346106 -0.242729 -0.489036\n",
       "Strength -0.102475  0.079429 -0.346106  1.000000  0.322057  0.250519\n",
       "cardio   -0.140824  0.068326 -0.242729  0.322057  1.000000  0.121561\n",
       "flex     -0.176386  0.278564 -0.489036  0.250519  0.121561  1.000000"
      ]
     },
     "execution_count": 89,
     "metadata": {},
     "output_type": "execute_result"
    }
   ],
   "source": [
    "C_1.corr(method='pearson')"
   ]
  },
  {
   "cell_type": "code",
   "execution_count": 90,
   "metadata": {},
   "outputs": [
    {
     "data": {
      "text/html": [
       "<div>\n",
       "<style scoped>\n",
       "    .dataframe tbody tr th:only-of-type {\n",
       "        vertical-align: middle;\n",
       "    }\n",
       "\n",
       "    .dataframe tbody tr th {\n",
       "        vertical-align: top;\n",
       "    }\n",
       "\n",
       "    .dataframe thead th {\n",
       "        text-align: right;\n",
       "    }\n",
       "</style>\n",
       "<table border=\"1\" class=\"dataframe\">\n",
       "  <thead>\n",
       "    <tr style=\"text-align: right;\">\n",
       "      <th></th>\n",
       "      <th>Extro</th>\n",
       "      <th>Neuro</th>\n",
       "      <th>Consc</th>\n",
       "      <th>Strength</th>\n",
       "      <th>cardio</th>\n",
       "      <th>flex</th>\n",
       "    </tr>\n",
       "  </thead>\n",
       "  <tbody>\n",
       "    <tr>\n",
       "      <th>Extro</th>\n",
       "      <td>1.000000</td>\n",
       "      <td>0.095443</td>\n",
       "      <td>-0.010020</td>\n",
       "      <td>0.135310</td>\n",
       "      <td>0.056406</td>\n",
       "      <td>-0.068449</td>\n",
       "    </tr>\n",
       "    <tr>\n",
       "      <th>Neuro</th>\n",
       "      <td>0.095443</td>\n",
       "      <td>1.000000</td>\n",
       "      <td>-0.183192</td>\n",
       "      <td>-0.078338</td>\n",
       "      <td>-0.087057</td>\n",
       "      <td>0.013157</td>\n",
       "    </tr>\n",
       "    <tr>\n",
       "      <th>Consc</th>\n",
       "      <td>-0.010020</td>\n",
       "      <td>-0.183192</td>\n",
       "      <td>1.000000</td>\n",
       "      <td>-0.064263</td>\n",
       "      <td>-0.084362</td>\n",
       "      <td>-0.069056</td>\n",
       "    </tr>\n",
       "    <tr>\n",
       "      <th>Strength</th>\n",
       "      <td>0.135310</td>\n",
       "      <td>-0.078338</td>\n",
       "      <td>-0.064263</td>\n",
       "      <td>1.000000</td>\n",
       "      <td>-0.013752</td>\n",
       "      <td>-0.125491</td>\n",
       "    </tr>\n",
       "    <tr>\n",
       "      <th>cardio</th>\n",
       "      <td>0.056406</td>\n",
       "      <td>-0.087057</td>\n",
       "      <td>-0.084362</td>\n",
       "      <td>-0.013752</td>\n",
       "      <td>1.000000</td>\n",
       "      <td>0.108976</td>\n",
       "    </tr>\n",
       "    <tr>\n",
       "      <th>flex</th>\n",
       "      <td>-0.068449</td>\n",
       "      <td>0.013157</td>\n",
       "      <td>-0.069056</td>\n",
       "      <td>-0.125491</td>\n",
       "      <td>0.108976</td>\n",
       "      <td>1.000000</td>\n",
       "    </tr>\n",
       "  </tbody>\n",
       "</table>\n",
       "</div>"
      ],
      "text/plain": [
       "             Extro     Neuro     Consc  Strength    cardio      flex\n",
       "Extro     1.000000  0.095443 -0.010020  0.135310  0.056406 -0.068449\n",
       "Neuro     0.095443  1.000000 -0.183192 -0.078338 -0.087057  0.013157\n",
       "Consc    -0.010020 -0.183192  1.000000 -0.064263 -0.084362 -0.069056\n",
       "Strength  0.135310 -0.078338 -0.064263  1.000000 -0.013752 -0.125491\n",
       "cardio    0.056406 -0.087057 -0.084362 -0.013752  1.000000  0.108976\n",
       "flex     -0.068449  0.013157 -0.069056 -0.125491  0.108976  1.000000"
      ]
     },
     "execution_count": 90,
     "metadata": {},
     "output_type": "execute_result"
    }
   ],
   "source": [
    "C_2.corr(method='pearson')"
   ]
  },
  {
   "cell_type": "code",
   "execution_count": 91,
   "metadata": {},
   "outputs": [
    {
     "data": {
      "text/plain": [
       "<matplotlib.axes._subplots.AxesSubplot at 0x1969abeec08>"
      ]
     },
     "execution_count": 91,
     "metadata": {},
     "output_type": "execute_result"
    },
    {
     "data": {
      "image/png": "[encoded data removed]",
      "text/plain": [
       "<Figure size 504x504 with 2 Axes>"
      ]
     },
     "metadata": {
      "needs_background": "light"
     },
     "output_type": "display_data"
    }
   ],
   "source": [
    "import seaborn as sb\n",
    "plt.rcParams[\"figure.figsize\"] = (7,7)\n",
    "sb.heatmap(C_0.corr(),\n",
    "           annot = True, #실제 값 화면에 나타내기\n",
    "           cmap = 'Greens', #색상\n",
    "           vmin = -1, vmax=1 , #컬러차트 영역 -1 ~ +1\n",
    "          )"
   ]
  },
  {
   "cell_type": "code",
   "execution_count": 92,
   "metadata": {},
   "outputs": [
    {
     "data": {
      "text/plain": [
       "<matplotlib.axes._subplots.AxesSubplot at 0x1969adf3e48>"
      ]
     },
     "execution_count": 92,
     "metadata": {},
     "output_type": "execute_result"
    },
    {
     "data": {
      "image/png": "[encoded data removed]",
      "text/plain": [
       "<Figure size 504x504 with 2 Axes>"
      ]
     },
     "metadata": {
      "needs_background": "light"
     },
     "output_type": "display_data"
    }
   ],
   "source": [
    "import seaborn as sb\n",
    "plt.rcParams[\"figure.figsize\"] = (7,7)\n",
    "sb.heatmap(C_1.corr(),\n",
    "           annot = True, #실제 값 화면에 나타내기\n",
    "           cmap = 'Greens', #색상\n",
    "           vmin = -1, vmax=1 , #컬러차트 영역 -1 ~ +1\n",
    "          )"
   ]
  },
  {
   "cell_type": "code",
   "execution_count": 93,
   "metadata": {},
   "outputs": [
    {
     "data": {
      "text/plain": [
       "<matplotlib.axes._subplots.AxesSubplot at 0x1969ae27e88>"
      ]
     },
     "execution_count": 93,
     "metadata": {},
     "output_type": "execute_result"
    },
    {
     "data": {
      "image/png": "[encoded data removed]",
      "text/plain": [
       "<Figure size 504x504 with 2 Axes>"
      ]
     },
     "metadata": {
      "needs_background": "light"
     },
     "output_type": "display_data"
    }
   ],
   "source": [
    "import seaborn as sb\n",
    "plt.rcParams[\"figure.figsize\"] = (7,7)\n",
    "sb.heatmap(C_2.corr(),\n",
    "           annot = True, #실제 값 화면에 나타내기\n",
    "           cmap = 'Greens', #색상\n",
    "           vmin = -1, vmax=1 , #컬러차트 영역 -1 ~ +1\n",
    "          )"
   ]
  },
  {
   "cell_type": "code",
   "execution_count": 94,
   "metadata": {},
   "outputs": [
    {
     "data": {
      "text/html": [
       "<div>\n",
       "<style scoped>\n",
       "    .dataframe tbody tr th:only-of-type {\n",
       "        vertical-align: middle;\n",
       "    }\n",
       "\n",
       "    .dataframe tbody tr th {\n",
       "        vertical-align: top;\n",
       "    }\n",
       "\n",
       "    .dataframe thead th {\n",
       "        text-align: right;\n",
       "    }\n",
       "</style>\n",
       "<table border=\"1\" class=\"dataframe\">\n",
       "  <thead>\n",
       "    <tr style=\"text-align: right;\">\n",
       "      <th></th>\n",
       "      <th>Extro</th>\n",
       "      <th>Neuro</th>\n",
       "      <th>Consc</th>\n",
       "      <th>Strength</th>\n",
       "      <th>cardio</th>\n",
       "      <th>flex</th>\n",
       "    </tr>\n",
       "  </thead>\n",
       "  <tbody>\n",
       "    <tr>\n",
       "      <th>0</th>\n",
       "      <td>-0.500407</td>\n",
       "      <td>1.280827</td>\n",
       "      <td>-0.933401</td>\n",
       "      <td>0.689295</td>\n",
       "      <td>-2.113159</td>\n",
       "      <td>-1.451840</td>\n",
       "    </tr>\n",
       "    <tr>\n",
       "      <th>1</th>\n",
       "      <td>-1.548067</td>\n",
       "      <td>0.771807</td>\n",
       "      <td>-1.443660</td>\n",
       "      <td>-0.838331</td>\n",
       "      <td>0.358333</td>\n",
       "      <td>-1.451840</td>\n",
       "    </tr>\n",
       "    <tr>\n",
       "      <th>2</th>\n",
       "      <td>1.594914</td>\n",
       "      <td>-2.282314</td>\n",
       "      <td>-0.933401</td>\n",
       "      <td>1.453108</td>\n",
       "      <td>1.182163</td>\n",
       "      <td>-1.451840</td>\n",
       "    </tr>\n",
       "    <tr>\n",
       "      <th>3</th>\n",
       "      <td>-1.024237</td>\n",
       "      <td>-0.755253</td>\n",
       "      <td>0.087117</td>\n",
       "      <td>0.689295</td>\n",
       "      <td>0.358333</td>\n",
       "      <td>-0.701520</td>\n",
       "    </tr>\n",
       "    <tr>\n",
       "      <th>4</th>\n",
       "      <td>0.547253</td>\n",
       "      <td>-0.755253</td>\n",
       "      <td>1.617895</td>\n",
       "      <td>0.689295</td>\n",
       "      <td>1.182163</td>\n",
       "      <td>0.048801</td>\n",
       "    </tr>\n",
       "  </tbody>\n",
       "</table>\n",
       "</div>"
      ],
      "text/plain": [
       "      Extro     Neuro     Consc  Strength    cardio      flex\n",
       "0 -0.500407  1.280827 -0.933401  0.689295 -2.113159 -1.451840\n",
       "1 -1.548067  0.771807 -1.443660 -0.838331  0.358333 -1.451840\n",
       "2  1.594914 -2.282314 -0.933401  1.453108  1.182163 -1.451840\n",
       "3 -1.024237 -0.755253  0.087117  0.689295  0.358333 -0.701520\n",
       "4  0.547253 -0.755253  1.617895  0.689295  1.182163  0.048801"
      ]
     },
     "execution_count": 94,
     "metadata": {},
     "output_type": "execute_result"
    }
   ],
   "source": [
    "import pandas as pd\n",
    "import numpy as np\n",
    "import matplotlib.pyplot as plt\n",
    "from scipy import stats\n",
    "\n",
    "data = pd.read_excel('스케일데이터.xlsx',encoding='cp949').reset_index(drop=True)\n",
    "data.head()\n",
    "data=pd.concat([data.apply(pd.to_numeric)], axis=1)\n",
    "s=data[['Extro','Neuro','Consc','Strength','cardio','flex']]\n",
    "s.head()"
   ]
  },
  {
   "cell_type": "code",
   "execution_count": 56,
   "metadata": {},
   "outputs": [
    {
     "data": {
      "text/html": [
       "<div>\n",
       "<style scoped>\n",
       "    .dataframe tbody tr th:only-of-type {\n",
       "        vertical-align: middle;\n",
       "    }\n",
       "\n",
       "    .dataframe tbody tr th {\n",
       "        vertical-align: top;\n",
       "    }\n",
       "\n",
       "    .dataframe thead th {\n",
       "        text-align: right;\n",
       "    }\n",
       "</style>\n",
       "<table border=\"1\" class=\"dataframe\">\n",
       "  <thead>\n",
       "    <tr style=\"text-align: right;\">\n",
       "      <th></th>\n",
       "      <th>Extro</th>\n",
       "      <th>Neuro</th>\n",
       "      <th>Consc</th>\n",
       "      <th>Strength</th>\n",
       "      <th>cardio</th>\n",
       "      <th>flex</th>\n",
       "    </tr>\n",
       "  </thead>\n",
       "  <tbody>\n",
       "    <tr>\n",
       "      <th>Extro</th>\n",
       "      <td>1.000000</td>\n",
       "      <td>-0.096119</td>\n",
       "      <td>0.069671</td>\n",
       "      <td>0.182282</td>\n",
       "      <td>0.186329</td>\n",
       "      <td>0.021225</td>\n",
       "    </tr>\n",
       "    <tr>\n",
       "      <th>Neuro</th>\n",
       "      <td>-0.096119</td>\n",
       "      <td>1.000000</td>\n",
       "      <td>-0.164373</td>\n",
       "      <td>-0.219069</td>\n",
       "      <td>-0.119735</td>\n",
       "      <td>0.089644</td>\n",
       "    </tr>\n",
       "    <tr>\n",
       "      <th>Consc</th>\n",
       "      <td>0.069671</td>\n",
       "      <td>-0.164373</td>\n",
       "      <td>1.000000</td>\n",
       "      <td>0.069865</td>\n",
       "      <td>0.055932</td>\n",
       "      <td>0.129593</td>\n",
       "    </tr>\n",
       "    <tr>\n",
       "      <th>Strength</th>\n",
       "      <td>0.182282</td>\n",
       "      <td>-0.219069</td>\n",
       "      <td>0.069865</td>\n",
       "      <td>1.000000</td>\n",
       "      <td>0.313191</td>\n",
       "      <td>0.101484</td>\n",
       "    </tr>\n",
       "    <tr>\n",
       "      <th>cardio</th>\n",
       "      <td>0.186329</td>\n",
       "      <td>-0.119735</td>\n",
       "      <td>0.055932</td>\n",
       "      <td>0.313191</td>\n",
       "      <td>1.000000</td>\n",
       "      <td>0.153380</td>\n",
       "    </tr>\n",
       "    <tr>\n",
       "      <th>flex</th>\n",
       "      <td>0.021225</td>\n",
       "      <td>0.089644</td>\n",
       "      <td>0.129593</td>\n",
       "      <td>0.101484</td>\n",
       "      <td>0.153380</td>\n",
       "      <td>1.000000</td>\n",
       "    </tr>\n",
       "  </tbody>\n",
       "</table>\n",
       "</div>"
      ],
      "text/plain": [
       "             Extro     Neuro     Consc  Strength    cardio      flex\n",
       "Extro     1.000000 -0.096119  0.069671  0.182282  0.186329  0.021225\n",
       "Neuro    -0.096119  1.000000 -0.164373 -0.219069 -0.119735  0.089644\n",
       "Consc     0.069671 -0.164373  1.000000  0.069865  0.055932  0.129593\n",
       "Strength  0.182282 -0.219069  0.069865  1.000000  0.313191  0.101484\n",
       "cardio    0.186329 -0.119735  0.055932  0.313191  1.000000  0.153380\n",
       "flex      0.021225  0.089644  0.129593  0.101484  0.153380  1.000000"
      ]
     },
     "execution_count": 56,
     "metadata": {},
     "output_type": "execute_result"
    }
   ],
   "source": [
    "s.corr(method='pearson')"
   ]
  },
  {
   "cell_type": "code",
   "execution_count": 57,
   "metadata": {},
   "outputs": [
    {
     "data": {
      "text/plain": [
       "<matplotlib.axes._subplots.AxesSubplot at 0x19699723e48>"
      ]
     },
     "execution_count": 57,
     "metadata": {},
     "output_type": "execute_result"
    },
    {
     "data": {
      "image/png": "[encoded data removed]",
      "text/plain": [
       "<Figure size 504x504 with 2 Axes>"
      ]
     },
     "metadata": {
      "needs_background": "light"
     },
     "output_type": "display_data"
    }
   ],
   "source": [
    "import seaborn as sb\n",
    "plt.rcParams[\"figure.figsize\"] = (7,7)\n",
    "sb.heatmap(s.corr(),\n",
    "           annot = True, #실제 값 화면에 나타내기\n",
    "           cmap = 'Greens', #색상\n",
    "           vmin = -1, vmax=1 , #컬러차트 영역 -1 ~ +1\n",
    "          )"
   ]
  },
  {
   "cell_type": "code",
   "execution_count": null,
   "metadata": {},
   "outputs": [],
   "source": []
  }
 ],
 "metadata": {
  "kernelspec": {
   "display_name": "Python 3",
   "language": "python",
   "name": "python3"
  },
  "language_info": {
   "codemirror_mode": {
    "name": "ipython",
    "version": 3
   },
   "file_extension": ".py",
   "mimetype": "text/x-python",
   "name": "python",
   "nbconvert_exporter": "python",
   "pygments_lexer": "ipython3",
   "version": "3.8.5"
  }
 },
 "nbformat": 4,
 "nbformat_minor": 4
}
